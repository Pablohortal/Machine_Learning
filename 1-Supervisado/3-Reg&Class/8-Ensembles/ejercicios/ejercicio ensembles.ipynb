{
 "cells": [
  {
   "cell_type": "markdown",
   "metadata": {},
   "source": [
    "# Ejercicios ensembling\n",
    "En este ejercicio vas a realizar prediciones sobre un dataset de ciudadanos indios diabéticos. Se trata de un problema de clasificación en el que intentaremos predecir 1 (diabético) 0 (no diabético). Todas las variables son numércias."
   ]
  },
  {
   "cell_type": "markdown",
   "metadata": {},
   "source": [
    "### 1. Carga las librerias que consideres comunes al notebook"
   ]
  },
  {
   "cell_type": "code",
   "execution_count": 5,
   "metadata": {},
   "outputs": [],
   "source": [
    "import pandas as pd\n",
    "import numpy as np\n",
    "import matplotlib.pyplot as plt\n",
    "import seaborn as sns"
   ]
  },
  {
   "cell_type": "markdown",
   "metadata": {},
   "source": [
    "### 2. Lee los datos de [esta direccion](https://raw.githubusercontent.com/jbrownlee/Datasets/master/pima-indians-diabetes.data.csv)\n",
    "Los nombres de columnas son:\n",
    "```Python\n",
    "names = ['preg', 'plas', 'pres', 'skin', 'test', 'mass', 'pedi', 'age', 'class']\n",
    "```"
   ]
  },
  {
   "cell_type": "code",
   "execution_count": 3,
   "metadata": {},
   "outputs": [],
   "source": [
    "names = ['preg', 'plas', 'pres', 'skin', 'test', 'mass', 'pedi', 'age', 'class']\n",
    "\n",
    "url = \"https://raw.githubusercontent.com/jbrownlee/Datasets/master/pima-indians-diabetes.data.csv\"\n",
    "\n",
    "df = pd.read_csv(url, names=names)\n"
   ]
  },
  {
   "cell_type": "code",
   "execution_count": 4,
   "metadata": {},
   "outputs": [
    {
     "name": "stdout",
     "output_type": "stream",
     "text": [
      "<class 'pandas.core.frame.DataFrame'>\n",
      "RangeIndex: 768 entries, 0 to 767\n",
      "Data columns (total 9 columns):\n",
      " #   Column  Non-Null Count  Dtype  \n",
      "---  ------  --------------  -----  \n",
      " 0   preg    768 non-null    int64  \n",
      " 1   plas    768 non-null    int64  \n",
      " 2   pres    768 non-null    int64  \n",
      " 3   skin    768 non-null    int64  \n",
      " 4   test    768 non-null    int64  \n",
      " 5   mass    768 non-null    float64\n",
      " 6   pedi    768 non-null    float64\n",
      " 7   age     768 non-null    int64  \n",
      " 8   class   768 non-null    int64  \n",
      "dtypes: float64(2), int64(7)\n",
      "memory usage: 54.1 KB\n"
     ]
    }
   ],
   "source": [
    "df.info()"
   ]
  },
  {
   "cell_type": "code",
   "execution_count": 6,
   "metadata": {},
   "outputs": [
    {
     "data": {
      "text/html": [
       "<div>\n",
       "<style scoped>\n",
       "    .dataframe tbody tr th:only-of-type {\n",
       "        vertical-align: middle;\n",
       "    }\n",
       "\n",
       "    .dataframe tbody tr th {\n",
       "        vertical-align: top;\n",
       "    }\n",
       "\n",
       "    .dataframe thead th {\n",
       "        text-align: right;\n",
       "    }\n",
       "</style>\n",
       "<table border=\"1\" class=\"dataframe\">\n",
       "  <thead>\n",
       "    <tr style=\"text-align: right;\">\n",
       "      <th></th>\n",
       "      <th>preg</th>\n",
       "      <th>plas</th>\n",
       "      <th>pres</th>\n",
       "      <th>skin</th>\n",
       "      <th>test</th>\n",
       "      <th>mass</th>\n",
       "      <th>pedi</th>\n",
       "      <th>age</th>\n",
       "      <th>class</th>\n",
       "    </tr>\n",
       "  </thead>\n",
       "  <tbody>\n",
       "    <tr>\n",
       "      <th>count</th>\n",
       "      <td>768.000000</td>\n",
       "      <td>768.000000</td>\n",
       "      <td>768.000000</td>\n",
       "      <td>768.000000</td>\n",
       "      <td>768.000000</td>\n",
       "      <td>768.000000</td>\n",
       "      <td>768.000000</td>\n",
       "      <td>768.000000</td>\n",
       "      <td>768.000000</td>\n",
       "    </tr>\n",
       "    <tr>\n",
       "      <th>mean</th>\n",
       "      <td>3.845052</td>\n",
       "      <td>120.894531</td>\n",
       "      <td>69.105469</td>\n",
       "      <td>20.536458</td>\n",
       "      <td>79.799479</td>\n",
       "      <td>31.992578</td>\n",
       "      <td>0.471876</td>\n",
       "      <td>33.240885</td>\n",
       "      <td>0.348958</td>\n",
       "    </tr>\n",
       "    <tr>\n",
       "      <th>std</th>\n",
       "      <td>3.369578</td>\n",
       "      <td>31.972618</td>\n",
       "      <td>19.355807</td>\n",
       "      <td>15.952218</td>\n",
       "      <td>115.244002</td>\n",
       "      <td>7.884160</td>\n",
       "      <td>0.331329</td>\n",
       "      <td>11.760232</td>\n",
       "      <td>0.476951</td>\n",
       "    </tr>\n",
       "    <tr>\n",
       "      <th>min</th>\n",
       "      <td>0.000000</td>\n",
       "      <td>0.000000</td>\n",
       "      <td>0.000000</td>\n",
       "      <td>0.000000</td>\n",
       "      <td>0.000000</td>\n",
       "      <td>0.000000</td>\n",
       "      <td>0.078000</td>\n",
       "      <td>21.000000</td>\n",
       "      <td>0.000000</td>\n",
       "    </tr>\n",
       "    <tr>\n",
       "      <th>25%</th>\n",
       "      <td>1.000000</td>\n",
       "      <td>99.000000</td>\n",
       "      <td>62.000000</td>\n",
       "      <td>0.000000</td>\n",
       "      <td>0.000000</td>\n",
       "      <td>27.300000</td>\n",
       "      <td>0.243750</td>\n",
       "      <td>24.000000</td>\n",
       "      <td>0.000000</td>\n",
       "    </tr>\n",
       "    <tr>\n",
       "      <th>50%</th>\n",
       "      <td>3.000000</td>\n",
       "      <td>117.000000</td>\n",
       "      <td>72.000000</td>\n",
       "      <td>23.000000</td>\n",
       "      <td>30.500000</td>\n",
       "      <td>32.000000</td>\n",
       "      <td>0.372500</td>\n",
       "      <td>29.000000</td>\n",
       "      <td>0.000000</td>\n",
       "    </tr>\n",
       "    <tr>\n",
       "      <th>75%</th>\n",
       "      <td>6.000000</td>\n",
       "      <td>140.250000</td>\n",
       "      <td>80.000000</td>\n",
       "      <td>32.000000</td>\n",
       "      <td>127.250000</td>\n",
       "      <td>36.600000</td>\n",
       "      <td>0.626250</td>\n",
       "      <td>41.000000</td>\n",
       "      <td>1.000000</td>\n",
       "    </tr>\n",
       "    <tr>\n",
       "      <th>max</th>\n",
       "      <td>17.000000</td>\n",
       "      <td>199.000000</td>\n",
       "      <td>122.000000</td>\n",
       "      <td>99.000000</td>\n",
       "      <td>846.000000</td>\n",
       "      <td>67.100000</td>\n",
       "      <td>2.420000</td>\n",
       "      <td>81.000000</td>\n",
       "      <td>1.000000</td>\n",
       "    </tr>\n",
       "  </tbody>\n",
       "</table>\n",
       "</div>"
      ],
      "text/plain": [
       "             preg        plas        pres        skin        test        mass   \n",
       "count  768.000000  768.000000  768.000000  768.000000  768.000000  768.000000  \\\n",
       "mean     3.845052  120.894531   69.105469   20.536458   79.799479   31.992578   \n",
       "std      3.369578   31.972618   19.355807   15.952218  115.244002    7.884160   \n",
       "min      0.000000    0.000000    0.000000    0.000000    0.000000    0.000000   \n",
       "25%      1.000000   99.000000   62.000000    0.000000    0.000000   27.300000   \n",
       "50%      3.000000  117.000000   72.000000   23.000000   30.500000   32.000000   \n",
       "75%      6.000000  140.250000   80.000000   32.000000  127.250000   36.600000   \n",
       "max     17.000000  199.000000  122.000000   99.000000  846.000000   67.100000   \n",
       "\n",
       "             pedi         age       class  \n",
       "count  768.000000  768.000000  768.000000  \n",
       "mean     0.471876   33.240885    0.348958  \n",
       "std      0.331329   11.760232    0.476951  \n",
       "min      0.078000   21.000000    0.000000  \n",
       "25%      0.243750   24.000000    0.000000  \n",
       "50%      0.372500   29.000000    0.000000  \n",
       "75%      0.626250   41.000000    1.000000  \n",
       "max      2.420000   81.000000    1.000000  "
      ]
     },
     "execution_count": 6,
     "metadata": {},
     "output_type": "execute_result"
    }
   ],
   "source": [
    "df.describe()\n"
   ]
  },
  {
   "cell_type": "code",
   "execution_count": 13,
   "metadata": {},
   "outputs": [
    {
     "data": {
      "image/png": "[encoded data removed]",
      "text/plain": [
       "<Figure size 600x500 with 2 Axes>"
      ]
     },
     "metadata": {},
     "output_type": "display_data"
    }
   ],
   "source": [
    "plt.figure(figsize=(6,5))\n",
    "sns.heatmap(df.corr(), annot=True, cmap='coolwarm')\n",
    "plt.show()\n"
   ]
  },
  {
   "cell_type": "markdown",
   "metadata": {},
   "source": [
    "### 3. Bagging\n",
    "Para este apartado tendrás que crear un ensemble utilizando la técnica de bagging ([BaggingClassifier](https://scikit-learn.org/stable/modules/generated/sklearn.ensemble.BaggingClassifier.html)), mediante la cual combinarás 100 [DecisionTreeClassifier](https://scikit-learn.org/stable/modules/generated/sklearn.tree.DecisionTreeClassifier.html). Recuerda utilizar también [cross validation](https://scikit-learn.org/stable/modules/generated/sklearn.model_selection.KFold.html) con 10 kfolds.\n",
    "\n",
    "**Para este apartado y siguientes, no hace falta que dividas en train/test**, por hacerlo más sencillo. Simplemente divide tus datos en features y target.\n",
    "\n",
    "Establece una semilla"
   ]
  },
  {
   "cell_type": "code",
   "execution_count": 10,
   "metadata": {},
   "outputs": [],
   "source": [
    "seed = 7"
   ]
  },
  {
   "cell_type": "code",
   "execution_count": 14,
   "metadata": {},
   "outputs": [
    {
     "name": "stderr",
     "output_type": "stream",
     "text": [
      "C:\\Users\\horta\\AppData\\Local\\Packages\\PythonSoftwareFoundation.Python.3.10_qbz5n2kfra8p0\\LocalCache\\local-packages\\Python310\\site-packages\\sklearn\\ensemble\\_base.py:166: FutureWarning: `base_estimator` was renamed to `estimator` in version 1.2 and will be removed in 1.4.\n",
      "  warnings.warn(\n",
      "C:\\Users\\horta\\AppData\\Local\\Packages\\PythonSoftwareFoundation.Python.3.10_qbz5n2kfra8p0\\LocalCache\\local-packages\\Python310\\site-packages\\sklearn\\ensemble\\_base.py:166: FutureWarning: `base_estimator` was renamed to `estimator` in version 1.2 and will be removed in 1.4.\n",
      "  warnings.warn(\n",
      "C:\\Users\\horta\\AppData\\Local\\Packages\\PythonSoftwareFoundation.Python.3.10_qbz5n2kfra8p0\\LocalCache\\local-packages\\Python310\\site-packages\\sklearn\\ensemble\\_base.py:166: FutureWarning: `base_estimator` was renamed to `estimator` in version 1.2 and will be removed in 1.4.\n",
      "  warnings.warn(\n",
      "C:\\Users\\horta\\AppData\\Local\\Packages\\PythonSoftwareFoundation.Python.3.10_qbz5n2kfra8p0\\LocalCache\\local-packages\\Python310\\site-packages\\sklearn\\ensemble\\_base.py:166: FutureWarning: `base_estimator` was renamed to `estimator` in version 1.2 and will be removed in 1.4.\n",
      "  warnings.warn(\n",
      "C:\\Users\\horta\\AppData\\Local\\Packages\\PythonSoftwareFoundation.Python.3.10_qbz5n2kfra8p0\\LocalCache\\local-packages\\Python310\\site-packages\\sklearn\\ensemble\\_base.py:166: FutureWarning: `base_estimator` was renamed to `estimator` in version 1.2 and will be removed in 1.4.\n",
      "  warnings.warn(\n",
      "C:\\Users\\horta\\AppData\\Local\\Packages\\PythonSoftwareFoundation.Python.3.10_qbz5n2kfra8p0\\LocalCache\\local-packages\\Python310\\site-packages\\sklearn\\ensemble\\_base.py:166: FutureWarning: `base_estimator` was renamed to `estimator` in version 1.2 and will be removed in 1.4.\n",
      "  warnings.warn(\n",
      "C:\\Users\\horta\\AppData\\Local\\Packages\\PythonSoftwareFoundation.Python.3.10_qbz5n2kfra8p0\\LocalCache\\local-packages\\Python310\\site-packages\\sklearn\\ensemble\\_base.py:166: FutureWarning: `base_estimator` was renamed to `estimator` in version 1.2 and will be removed in 1.4.\n",
      "  warnings.warn(\n",
      "C:\\Users\\horta\\AppData\\Local\\Packages\\PythonSoftwareFoundation.Python.3.10_qbz5n2kfra8p0\\LocalCache\\local-packages\\Python310\\site-packages\\sklearn\\ensemble\\_base.py:166: FutureWarning: `base_estimator` was renamed to `estimator` in version 1.2 and will be removed in 1.4.\n",
      "  warnings.warn(\n",
      "C:\\Users\\horta\\AppData\\Local\\Packages\\PythonSoftwareFoundation.Python.3.10_qbz5n2kfra8p0\\LocalCache\\local-packages\\Python310\\site-packages\\sklearn\\ensemble\\_base.py:166: FutureWarning: `base_estimator` was renamed to `estimator` in version 1.2 and will be removed in 1.4.\n",
      "  warnings.warn(\n",
      "C:\\Users\\horta\\AppData\\Local\\Packages\\PythonSoftwareFoundation.Python.3.10_qbz5n2kfra8p0\\LocalCache\\local-packages\\Python310\\site-packages\\sklearn\\ensemble\\_base.py:166: FutureWarning: `base_estimator` was renamed to `estimator` in version 1.2 and will be removed in 1.4.\n",
      "  warnings.warn(\n"
     ]
    },
    {
     "name": "stdout",
     "output_type": "stream",
     "text": [
      "Accuracy: 75.783%\n"
     ]
    }
   ],
   "source": [
    "from sklearn.ensemble import BaggingClassifier\n",
    "from sklearn.tree import DecisionTreeClassifier\n",
    "from sklearn.model_selection import cross_val_score, KFold\n",
    "\n",
    "X = df.drop('class', axis=1)\n",
    "y = df['class']\n",
    "\n",
    "seed = 7\n",
    "\n",
    "dtc = DecisionTreeClassifier()\n",
    "\n",
    "model = BaggingClassifier(base_estimator=dtc, n_estimators=100, random_state=seed)\n",
    "\n",
    "kfold = KFold(n_splits=10, random_state=seed, shuffle=True)\n",
    "\n",
    "results_cv = cross_val_score(model, X, y, cv=kfold, scoring='accuracy')\n",
    "\n",
    "print('Accuracy: %.3f%%' % (results_cv.mean() * 100))\n"
   ]
  },
  {
   "cell_type": "code",
   "execution_count": 15,
   "metadata": {},
   "outputs": [
    {
     "data": {
      "text/plain": [
       "0.7578263841421736"
      ]
     },
     "execution_count": 15,
     "metadata": {},
     "output_type": "execute_result"
    }
   ],
   "source": [
    "results_cv.mean()"
   ]
  },
  {
   "cell_type": "markdown",
   "metadata": {},
   "source": [
    "### 4. Random Forest\n",
    "En este caso entrena un [RandomForestClassifier](https://scikit-learn.org/stable/modules/generated/sklearn.ensemble.RandomForestClassifier.html) con 100 árboles y un `max_features` de 3. También con validación cruzada"
   ]
  },
  {
   "cell_type": "code",
   "execution_count": 23,
   "metadata": {},
   "outputs": [
    {
     "name": "stdout",
     "output_type": "stream",
     "text": [
      "Accuracy: 75.911%\n"
     ]
    }
   ],
   "source": [
    "from sklearn.ensemble import RandomForestClassifier\n",
    "\n",
    "model_rfc = RandomForestClassifier(n_estimators=100, max_features=3, random_state=seed)\n",
    "\n",
    "results_cv_rfc = cross_val_score(model_rfc, X, y, cv=kfold, scoring='accuracy')\n",
    "print('Accuracy: %.3f%%' % (results_cv_rf.mean() * 100))"
   ]
  },
  {
   "cell_type": "markdown",
   "metadata": {},
   "source": [
    "### 5. AdaBoost\n",
    "Implementa un [AdaBoostClassifier](https://scikit-learn.org/stable/modules/generated/sklearn.ensemble.AdaBoostClassifier.html) con 30 árboles."
   ]
  },
  {
   "cell_type": "code",
   "execution_count": 18,
   "metadata": {},
   "outputs": [
    {
     "name": "stdout",
     "output_type": "stream",
     "text": [
      "Accuracy: 75.528%\n"
     ]
    }
   ],
   "source": [
    "from sklearn.ensemble import AdaBoostClassifier\n",
    "\n",
    "model_ada = AdaBoostClassifier(n_estimators=30, random_state=seed)\n",
    "\n",
    "results_cv_ada = cross_val_score(model_ada, X, y, cv=kfold, scoring='accuracy')\n",
    "\n",
    "print('Accuracy: %.3f%%' % (results_cv_ada.mean() * 100))\n"
   ]
  },
  {
   "cell_type": "markdown",
   "metadata": {},
   "source": [
    "### 6. GradientBoosting\n",
    "Implementa un [GradientBoostingClassifier](https://scikit-learn.org/stable/modules/generated/sklearn.ensemble.GradientBoostingClassifier.html) con 100 estimadores"
   ]
  },
  {
   "cell_type": "code",
   "execution_count": 19,
   "metadata": {},
   "outputs": [
    {
     "name": "stdout",
     "output_type": "stream",
     "text": [
      "Accuracy: 75.789%\n"
     ]
    }
   ],
   "source": [
    "from sklearn.ensemble import GradientBoostingClassifier\n",
    "\n",
    "model_gb = GradientBoostingClassifier(n_estimators=100, random_state=seed)\n",
    "\n",
    "results_cv_gb = cross_val_score(model_gb, X, y, cv=kfold, scoring='accuracy')\n",
    "\n",
    "print('Accuracy: %.3f%%' % (results_cv_gb.mean() * 100))\n"
   ]
  },
  {
   "cell_type": "markdown",
   "metadata": {},
   "source": [
    "### 7. XGBoost\n",
    "Para este apartado utiliza un [XGBoostClassifier](https://docs.getml.com/latest/api/getml.predictors.XGBoostClassifier.html) con 100 estimadores. XGBoost no forma parte de la suite de modelos de sklearn, por lo que tendrás que instalarlo con pip install"
   ]
  },
  {
   "cell_type": "code",
   "execution_count": 20,
   "metadata": {},
   "outputs": [
    {
     "name": "stdout",
     "output_type": "stream",
     "text": [
      "Collecting xgboost\n",
      "  Downloading xgboost-1.7.5-py3-none-win_amd64.whl (70.9 MB)\n",
      "     ---------------------------------------- 0.0/70.9 MB ? eta -:--:--\n",
      "     ---------------------------------------- 0.2/70.9 MB 4.8 MB/s eta 0:00:15\n",
      "     ---------------------------------------- 0.6/70.9 MB 7.3 MB/s eta 0:00:10\n",
      "      --------------------------------------- 1.2/70.9 MB 9.7 MB/s eta 0:00:08\n",
      "     - -------------------------------------- 2.2/70.9 MB 12.6 MB/s eta 0:00:06\n",
      "     - -------------------------------------- 2.8/70.9 MB 13.8 MB/s eta 0:00:05\n",
      "     - -------------------------------------- 3.0/70.9 MB 12.7 MB/s eta 0:00:06\n",
      "     - -------------------------------------- 3.1/70.9 MB 10.0 MB/s eta 0:00:07\n",
      "     - -------------------------------------- 3.4/70.9 MB 9.3 MB/s eta 0:00:08\n",
      "     - -------------------------------------- 3.5/70.9 MB 8.9 MB/s eta 0:00:08\n",
      "     -- ------------------------------------- 3.6/70.9 MB 8.0 MB/s eta 0:00:09\n",
      "     -- ------------------------------------- 3.8/70.9 MB 7.8 MB/s eta 0:00:09\n",
      "     -- ------------------------------------- 3.9/70.9 MB 7.2 MB/s eta 0:00:10\n",
      "     -- ------------------------------------- 4.7/70.9 MB 7.8 MB/s eta 0:00:09\n",
      "     -- ------------------------------------- 5.1/70.9 MB 8.0 MB/s eta 0:00:09\n",
      "     --- ------------------------------------ 5.9/70.9 MB 8.6 MB/s eta 0:00:08\n",
      "     --- ------------------------------------ 6.5/70.9 MB 8.8 MB/s eta 0:00:08\n",
      "     --- ------------------------------------ 6.7/70.9 MB 9.0 MB/s eta 0:00:08\n",
      "     --- ------------------------------------ 7.0/70.9 MB 8.8 MB/s eta 0:00:08\n",
      "     ---- ----------------------------------- 7.2/70.9 MB 8.4 MB/s eta 0:00:08\n",
      "     ---- ----------------------------------- 7.6/70.9 MB 8.3 MB/s eta 0:00:08\n",
      "     ---- ----------------------------------- 8.0/70.9 MB 8.3 MB/s eta 0:00:08\n",
      "     ---- ----------------------------------- 8.0/70.9 MB 8.3 MB/s eta 0:00:08\n",
      "     ---- ----------------------------------- 8.2/70.9 MB 7.9 MB/s eta 0:00:08\n",
      "     ---- ----------------------------------- 8.4/70.9 MB 7.6 MB/s eta 0:00:09\n",
      "     ---- ----------------------------------- 8.6/70.9 MB 7.7 MB/s eta 0:00:09\n",
      "     ----- ---------------------------------- 8.9/70.9 MB 7.6 MB/s eta 0:00:09\n",
      "     ----- ---------------------------------- 9.0/70.9 MB 7.2 MB/s eta 0:00:09\n",
      "     ----- ---------------------------------- 9.7/70.9 MB 7.5 MB/s eta 0:00:09\n",
      "     ----- ---------------------------------- 10.5/70.9 MB 7.9 MB/s eta 0:00:08\n",
      "     ------ --------------------------------- 11.5/70.9 MB 8.1 MB/s eta 0:00:08\n",
      "     ------- -------------------------------- 12.5/70.9 MB 8.1 MB/s eta 0:00:08\n",
      "     ------- -------------------------------- 13.6/70.9 MB 9.1 MB/s eta 0:00:07\n",
      "     ------- ------------------------------- 14.4/70.9 MB 11.1 MB/s eta 0:00:06\n",
      "     -------- ------------------------------ 15.4/70.9 MB 11.1 MB/s eta 0:00:06\n",
      "     --------- ----------------------------- 16.6/70.9 MB 11.5 MB/s eta 0:00:05\n",
      "     --------- ----------------------------- 17.6/70.9 MB 13.1 MB/s eta 0:00:05\n",
      "     ---------- ---------------------------- 18.5/70.9 MB 16.8 MB/s eta 0:00:04\n",
      "     ---------- ---------------------------- 19.4/70.9 MB 20.5 MB/s eta 0:00:03\n",
      "     ----------- --------------------------- 20.2/70.9 MB 21.1 MB/s eta 0:00:03\n",
      "     ----------- --------------------------- 21.4/70.9 MB 21.1 MB/s eta 0:00:03\n",
      "     ------------ -------------------------- 22.2/70.9 MB 21.1 MB/s eta 0:00:03\n",
      "     ------------ -------------------------- 23.2/70.9 MB 20.5 MB/s eta 0:00:03\n",
      "     ------------- ------------------------- 23.9/70.9 MB 20.5 MB/s eta 0:00:03\n",
      "     ------------- ------------------------- 24.7/70.9 MB 21.1 MB/s eta 0:00:03\n",
      "     -------------- ------------------------ 25.5/70.9 MB 20.5 MB/s eta 0:00:03\n",
      "     -------------- ------------------------ 25.6/70.9 MB 18.7 MB/s eta 0:00:03\n",
      "     -------------- ------------------------ 25.7/70.9 MB 16.8 MB/s eta 0:00:03\n",
      "     -------------- ------------------------ 25.8/70.9 MB 16.0 MB/s eta 0:00:03\n",
      "     -------------- ------------------------ 26.0/70.9 MB 14.9 MB/s eta 0:00:04\n",
      "     -------------- ------------------------ 26.5/70.9 MB 14.6 MB/s eta 0:00:04\n",
      "     --------------- ----------------------- 27.3/70.9 MB 14.6 MB/s eta 0:00:03\n",
      "     --------------- ----------------------- 28.5/70.9 MB 14.2 MB/s eta 0:00:03\n",
      "     ---------------- ---------------------- 29.3/70.9 MB 14.2 MB/s eta 0:00:03\n",
      "     ---------------- ---------------------- 30.2/70.9 MB 14.2 MB/s eta 0:00:03\n",
      "     ----------------- --------------------- 31.1/70.9 MB 14.2 MB/s eta 0:00:03\n",
      "     ----------------- --------------------- 31.9/70.9 MB 13.9 MB/s eta 0:00:03\n",
      "     ------------------ -------------------- 32.8/70.9 MB 14.2 MB/s eta 0:00:03\n",
      "     ------------------ -------------------- 33.6/70.9 MB 14.2 MB/s eta 0:00:03\n",
      "     ------------------ -------------------- 34.5/70.9 MB 13.9 MB/s eta 0:00:03\n",
      "     ------------------- ------------------- 35.2/70.9 MB 13.9 MB/s eta 0:00:03\n",
      "     -------------------- ------------------ 36.4/70.9 MB 19.8 MB/s eta 0:00:02\n",
      "     -------------------- ------------------ 37.2/70.9 MB 19.3 MB/s eta 0:00:02\n",
      "     --------------------- ----------------- 38.3/70.9 MB 19.9 MB/s eta 0:00:02\n",
      "     --------------------- ----------------- 39.4/70.9 MB 19.9 MB/s eta 0:00:02\n",
      "     ---------------------- ---------------- 40.3/70.9 MB 19.8 MB/s eta 0:00:02\n",
      "     ---------------------- ---------------- 41.3/70.9 MB 19.8 MB/s eta 0:00:02\n",
      "     ----------------------- --------------- 42.1/70.9 MB 20.5 MB/s eta 0:00:02\n",
      "     ----------------------- --------------- 43.2/70.9 MB 20.5 MB/s eta 0:00:02\n",
      "     ------------------------ -------------- 44.1/70.9 MB 20.5 MB/s eta 0:00:02\n",
      "     ------------------------ -------------- 45.0/70.9 MB 20.5 MB/s eta 0:00:02\n",
      "     ------------------------- ------------- 45.5/70.9 MB 19.9 MB/s eta 0:00:02\n",
      "     ------------------------- ------------- 46.2/70.9 MB 19.8 MB/s eta 0:00:02\n",
      "     ------------------------- ------------- 46.5/70.9 MB 18.7 MB/s eta 0:00:02\n",
      "     ------------------------- ------------- 47.2/70.9 MB 17.7 MB/s eta 0:00:02\n",
      "     -------------------------- ------------ 47.6/70.9 MB 17.7 MB/s eta 0:00:02\n",
      "     -------------------------- ------------ 48.0/70.9 MB 16.8 MB/s eta 0:00:02\n",
      "     -------------------------- ------------ 48.3/70.9 MB 15.2 MB/s eta 0:00:02\n",
      "     -------------------------- ------------ 48.8/70.9 MB 15.2 MB/s eta 0:00:02\n",
      "     -------------------------- ------------ 49.1/70.9 MB 14.6 MB/s eta 0:00:02\n",
      "     --------------------------- ----------- 49.6/70.9 MB 13.6 MB/s eta 0:00:02\n",
      "     --------------------------- ----------- 50.2/70.9 MB 13.6 MB/s eta 0:00:02\n",
      "     ---------------------------- ---------- 51.1/70.9 MB 13.4 MB/s eta 0:00:02\n",
      "     ---------------------------- ---------- 52.1/70.9 MB 13.6 MB/s eta 0:00:02\n",
      "     ----------------------------- --------- 53.1/70.9 MB 13.1 MB/s eta 0:00:02\n",
      "     ----------------------------- --------- 53.7/70.9 MB 13.1 MB/s eta 0:00:02\n",
      "     ----------------------------- --------- 54.4/70.9 MB 13.1 MB/s eta 0:00:02\n",
      "     ------------------------------ -------- 55.6/70.9 MB 13.6 MB/s eta 0:00:02\n",
      "     ------------------------------- ------- 56.7/70.9 MB 13.9 MB/s eta 0:00:02\n",
      "     ------------------------------- ------- 57.6/70.9 MB 15.2 MB/s eta 0:00:01\n",
      "     -------------------------------- ------ 58.6/70.9 MB 17.3 MB/s eta 0:00:01\n",
      "     -------------------------------- ------ 59.8/70.9 MB 20.5 MB/s eta 0:00:01\n",
      "     --------------------------------- ----- 60.8/70.9 MB 21.1 MB/s eta 0:00:01\n",
      "     --------------------------------- ----- 61.5/70.9 MB 21.1 MB/s eta 0:00:01\n",
      "     --------------------------------- ----- 61.6/70.9 MB 19.3 MB/s eta 0:00:01\n",
      "     --------------------------------- ----- 61.7/70.9 MB 18.2 MB/s eta 0:00:01\n",
      "     --------------------------------- ----- 61.8/70.9 MB 16.8 MB/s eta 0:00:01\n",
      "     ---------------------------------- ---- 62.0/70.9 MB 15.6 MB/s eta 0:00:01\n",
      "     ---------------------------------- ---- 62.6/70.9 MB 14.9 MB/s eta 0:00:01\n",
      "     ----------------------------------- --- 63.8/70.9 MB 16.0 MB/s eta 0:00:01\n",
      "     ----------------------------------- --- 64.9/70.9 MB 16.0 MB/s eta 0:00:01\n",
      "     ------------------------------------ -- 65.7/70.9 MB 16.0 MB/s eta 0:00:01\n",
      "     ------------------------------------ -- 66.6/70.9 MB 15.6 MB/s eta 0:00:01\n",
      "     ------------------------------------- - 67.8/70.9 MB 16.0 MB/s eta 0:00:01\n",
      "     ------------------------------------- - 68.7/70.9 MB 15.6 MB/s eta 0:00:01\n",
      "     --------------------------------------  69.7/70.9 MB 15.6 MB/s eta 0:00:01\n",
      "     --------------------------------------  70.5/70.9 MB 15.2 MB/s eta 0:00:01\n",
      "     --------------------------------------  70.9/70.9 MB 14.9 MB/s eta 0:00:01\n",
      "     --------------------------------------  70.9/70.9 MB 14.9 MB/s eta 0:00:01\n",
      "     --------------------------------------  70.9/70.9 MB 14.9 MB/s eta 0:00:01\n",
      "     --------------------------------------  70.9/70.9 MB 14.9 MB/s eta 0:00:01\n",
      "     --------------------------------------  70.9/70.9 MB 14.9 MB/s eta 0:00:01\n",
      "     --------------------------------------  70.9/70.9 MB 14.9 MB/s eta 0:00:01\n",
      "     ---------------------------------------- 70.9/70.9 MB 9.9 MB/s eta 0:00:00\n",
      "Requirement already satisfied: scipy in c:\\users\\horta\\appdata\\local\\packages\\pythonsoftwarefoundation.python.3.10_qbz5n2kfra8p0\\localcache\\local-packages\\python310\\site-packages (from xgboost) (1.10.1)\n",
      "Requirement already satisfied: numpy in c:\\users\\horta\\appdata\\local\\packages\\pythonsoftwarefoundation.python.3.10_qbz5n2kfra8p0\\localcache\\local-packages\\python310\\site-packages (from xgboost) (1.24.2)\n",
      "Installing collected packages: xgboost\n",
      "Successfully installed xgboost-1.7.5\n"
     ]
    },
    {
     "name": "stderr",
     "output_type": "stream",
     "text": [
      "\n",
      "[notice] A new release of pip is available: 23.0.1 -> 23.1.2\n",
      "[notice] To update, run: C:\\Users\\horta\\AppData\\Local\\Microsoft\\WindowsApps\\PythonSoftwareFoundation.Python.3.10_qbz5n2kfra8p0\\python.exe -m pip install --upgrade pip\n"
     ]
    }
   ],
   "source": [
    "!pip install xgboost"
   ]
  },
  {
   "cell_type": "code",
   "execution_count": 21,
   "metadata": {},
   "outputs": [
    {
     "name": "stderr",
     "output_type": "stream",
     "text": [
      "C:\\Users\\horta\\AppData\\Local\\Packages\\PythonSoftwareFoundation.Python.3.10_qbz5n2kfra8p0\\LocalCache\\local-packages\\Python310\\site-packages\\xgboost\\sklearn.py:1395: UserWarning: `use_label_encoder` is deprecated in 1.7.0.\n",
      "  warnings.warn(\"`use_label_encoder` is deprecated in 1.7.0.\")\n",
      "C:\\Users\\horta\\AppData\\Local\\Packages\\PythonSoftwareFoundation.Python.3.10_qbz5n2kfra8p0\\LocalCache\\local-packages\\Python310\\site-packages\\xgboost\\sklearn.py:1395: UserWarning: `use_label_encoder` is deprecated in 1.7.0.\n",
      "  warnings.warn(\"`use_label_encoder` is deprecated in 1.7.0.\")\n",
      "C:\\Users\\horta\\AppData\\Local\\Packages\\PythonSoftwareFoundation.Python.3.10_qbz5n2kfra8p0\\LocalCache\\local-packages\\Python310\\site-packages\\xgboost\\sklearn.py:1395: UserWarning: `use_label_encoder` is deprecated in 1.7.0.\n",
      "  warnings.warn(\"`use_label_encoder` is deprecated in 1.7.0.\")\n",
      "C:\\Users\\horta\\AppData\\Local\\Packages\\PythonSoftwareFoundation.Python.3.10_qbz5n2kfra8p0\\LocalCache\\local-packages\\Python310\\site-packages\\xgboost\\sklearn.py:1395: UserWarning: `use_label_encoder` is deprecated in 1.7.0.\n",
      "  warnings.warn(\"`use_label_encoder` is deprecated in 1.7.0.\")\n",
      "C:\\Users\\horta\\AppData\\Local\\Packages\\PythonSoftwareFoundation.Python.3.10_qbz5n2kfra8p0\\LocalCache\\local-packages\\Python310\\site-packages\\xgboost\\sklearn.py:1395: UserWarning: `use_label_encoder` is deprecated in 1.7.0.\n",
      "  warnings.warn(\"`use_label_encoder` is deprecated in 1.7.0.\")\n",
      "C:\\Users\\horta\\AppData\\Local\\Packages\\PythonSoftwareFoundation.Python.3.10_qbz5n2kfra8p0\\LocalCache\\local-packages\\Python310\\site-packages\\xgboost\\sklearn.py:1395: UserWarning: `use_label_encoder` is deprecated in 1.7.0.\n",
      "  warnings.warn(\"`use_label_encoder` is deprecated in 1.7.0.\")\n",
      "C:\\Users\\horta\\AppData\\Local\\Packages\\PythonSoftwareFoundation.Python.3.10_qbz5n2kfra8p0\\LocalCache\\local-packages\\Python310\\site-packages\\xgboost\\sklearn.py:1395: UserWarning: `use_label_encoder` is deprecated in 1.7.0.\n",
      "  warnings.warn(\"`use_label_encoder` is deprecated in 1.7.0.\")\n",
      "C:\\Users\\horta\\AppData\\Local\\Packages\\PythonSoftwareFoundation.Python.3.10_qbz5n2kfra8p0\\LocalCache\\local-packages\\Python310\\site-packages\\xgboost\\sklearn.py:1395: UserWarning: `use_label_encoder` is deprecated in 1.7.0.\n",
      "  warnings.warn(\"`use_label_encoder` is deprecated in 1.7.0.\")\n"
     ]
    },
    {
     "name": "stdout",
     "output_type": "stream",
     "text": [
      "Accuracy: 72.526%\n"
     ]
    },
    {
     "name": "stderr",
     "output_type": "stream",
     "text": [
      "C:\\Users\\horta\\AppData\\Local\\Packages\\PythonSoftwareFoundation.Python.3.10_qbz5n2kfra8p0\\LocalCache\\local-packages\\Python310\\site-packages\\xgboost\\sklearn.py:1395: UserWarning: `use_label_encoder` is deprecated in 1.7.0.\n",
      "  warnings.warn(\"`use_label_encoder` is deprecated in 1.7.0.\")\n",
      "C:\\Users\\horta\\AppData\\Local\\Packages\\PythonSoftwareFoundation.Python.3.10_qbz5n2kfra8p0\\LocalCache\\local-packages\\Python310\\site-packages\\xgboost\\sklearn.py:1395: UserWarning: `use_label_encoder` is deprecated in 1.7.0.\n",
      "  warnings.warn(\"`use_label_encoder` is deprecated in 1.7.0.\")\n"
     ]
    }
   ],
   "source": [
    "import xgboost as xgb\n",
    "\n",
    "model_xgb = xgb.XGBClassifier(n_estimators=100, random_state=seed, use_label_encoder=False, eval_metric='logloss')\n",
    "\n",
    "results_cv_xgb = cross_val_score(model_xgb, X, y, cv=kfold, scoring='accuracy')\n",
    "\n",
    "print('Accuracy: %.3f%%' % (results_cv_xgb.mean() * 100))\n"
   ]
  },
  {
   "cell_type": "markdown",
   "metadata": {},
   "source": [
    "### 8. Resultados\n",
    "Crea un series con los resultados y sus algoritmos, ordenándolos de mayor a menor"
   ]
  },
  {
   "cell_type": "code",
   "execution_count": 24,
   "metadata": {},
   "outputs": [
    {
     "data": {
      "text/plain": [
       "Random Forest       0.759108\n",
       "GradientBoosting    0.757895\n",
       "Bagging DT          0.757826\n",
       "Ada Boost           0.755280\n",
       "XGBoost             0.725256\n",
       "dtype: float64"
      ]
     },
     "execution_count": 24,
     "metadata": {},
     "output_type": "execute_result"
    }
   ],
   "source": [
    "result = [results_cv.mean(), results_cv_rfc.mean(), results_cv_ada.mean(), results_cv_gb.mean(), results_cv_xgb.mean()]\n",
    "models = ['Bagging DT', \"Random Forest\", \"Ada Boost\", \"GradientBoosting\", \"XGBoost\"]\n",
    "\n",
    "resultados = pd.Series(result, models).sort_values(ascending=False)\n",
    "resultados"
   ]
  },
  {
   "cell_type": "code",
   "execution_count": 31,
   "metadata": {},
   "outputs": [
    {
     "name": "stdout",
     "output_type": "stream",
     "text": [
      "La precisión del modelo de Random Forest en el conjunto de test es: 79.22%\n"
     ]
    }
   ],
   "source": [
    "from sklearn.model_selection import train_test_split\n",
    "from sklearn.metrics import accuracy_score\n",
    "\n",
    "X_train, X_test, y_train, y_test = train_test_split(X, y, test_size=0.2, random_state=seed)\n",
    "\n",
    "model_rfc.fit(X_train, y_train)\n",
    "\n",
    "y_pred_rfc = model_rfc.predict(X_test)\n",
    "\n",
    "accuracy_rfc = accuracy_score(y_test, y_pred_rfc)\n",
    "\n",
    "print('La precisión del modelo de Random Forest en el conjunto de test es: {:.2f}%'.format(accuracy_rfc * 100))\n"
   ]
  },
  {
   "cell_type": "code",
   "execution_count": 32,
   "metadata": {},
   "outputs": [
    {
     "name": "stderr",
     "output_type": "stream",
     "text": [
      "C:\\Users\\horta\\AppData\\Local\\Packages\\PythonSoftwareFoundation.Python.3.10_qbz5n2kfra8p0\\LocalCache\\local-packages\\Python310\\site-packages\\sklearn\\ensemble\\_base.py:166: FutureWarning: `base_estimator` was renamed to `estimator` in version 1.2 and will be removed in 1.4.\n",
      "  warnings.warn(\n"
     ]
    },
    {
     "name": "stdout",
     "output_type": "stream",
     "text": [
      "La precisión del modelo de Bagging en el conjunto de test es: 79.22%\n"
     ]
    }
   ],
   "source": [
    "model_bagging.fit(X_train, y_train)\n",
    "\n",
    "y_pred_bagging = model_bagging.predict(X_test)\n",
    "\n",
    "accuracy_bagging = accuracy_score(y_test, y_pred_bagging)\n",
    "\n",
    "print('La precisión del modelo de Bagging en el conjunto de test es: {:.2f}%'.format(accuracy_bagging * 100))\n"
   ]
  },
  {
   "cell_type": "code",
   "execution_count": 33,
   "metadata": {},
   "outputs": [
    {
     "name": "stdout",
     "output_type": "stream",
     "text": [
      "La precisión del modelo de AdaBoost en el conjunto de test es: 75.97%\n"
     ]
    }
   ],
   "source": [
    "from sklearn.ensemble import AdaBoostClassifier\n",
    "\n",
    "model_ada = AdaBoostClassifier(n_estimators=30, random_state=seed)\n",
    "\n",
    "model_ada.fit(X_train, y_train)\n",
    "\n",
    "y_pred_ada = model_ada.predict(X_test)\n",
    "\n",
    "accuracy_ada = accuracy_score(y_test, y_pred_ada) # este ya está bien\n",
    "\n",
    "print('La precisión del modelo de AdaBoost en el conjunto de test es: {:.2f}%'.format(accuracy_ada * 100))\n",
    "\n",
    "accuracy_ada = accuracy_ada\n",
    "\n"
   ]
  },
  {
   "cell_type": "code",
   "execution_count": 34,
   "metadata": {},
   "outputs": [
    {
     "name": "stdout",
     "output_type": "stream",
     "text": [
      "La precisión del modelo de Gradient Boosting en el conjunto de test es: 79.22%\n"
     ]
    }
   ],
   "source": [
    "from sklearn.ensemble import GradientBoostingClassifier\n",
    "\n",
    "# Crear el modelo de Gradient Boosting\n",
    "model_gb = GradientBoostingClassifier(n_estimators=100, random_state=seed)\n",
    "\n",
    "# Entrenar el modelo con los datos de entrenamiento\n",
    "model_gb.fit(X_train, y_train)\n",
    "\n",
    "# Hacer predicciones con los datos de prueba\n",
    "y_pred_gb = model_gb.predict(X_test)\n",
    "\n",
    "# Calcular la precisión del modelo\n",
    "accuracy_gb = accuracy_score(y_test, y_pred_gb)\n",
    "\n",
    "print('La precisión del modelo de Gradient Boosting en el conjunto de test es: {:.2f}%'.format(accuracy_gb * 100))\n",
    "\n",
    "accuracy_gb = accuracy_gb\n"
   ]
  },
  {
   "cell_type": "code",
   "execution_count": 35,
   "metadata": {},
   "outputs": [
    {
     "name": "stdout",
     "output_type": "stream",
     "text": [
      "La precisión del modelo de XGBoost en el conjunto de test es: 74.03%\n"
     ]
    }
   ],
   "source": [
    "\n",
    "import xgboost as xgb\n",
    "\n",
    "model_xgb = xgb.XGBClassifier(n_estimators=100, random_state=seed)\n",
    "\n",
    "model_xgb.fit(X_train, y_train)\n",
    "\n",
    "y_pred_xgb = model_xgb.predict(X_test)\n",
    "\n",
    "accuracy_xgb = accuracy_score(y_test, y_pred_xgb)\n",
    "\n",
    "print('La precisión del modelo de XGBoost en el conjunto de test es: {:.2f}%'.format(accuracy_xgb * 100))\n",
    "\n",
    "accuracy_xgb = accuracy_xgb\n"
   ]
  },
  {
   "cell_type": "code",
   "execution_count": 36,
   "metadata": {},
   "outputs": [
    {
     "name": "stdout",
     "output_type": "stream",
     "text": [
      "La precisión de los modelos en el conjunto de test es:\n",
      "Bagging DT          0.792208\n",
      "Random Forest       0.792208\n",
      "GradientBoosting    0.792208\n",
      "Ada Boost           0.759740\n",
      "XGBoost             0.740260\n",
      "dtype: float64\n"
     ]
    }
   ],
   "source": [
    "result = [accuracy_bagging, accuracy_rfc, accuracy_ada, accuracy_gb, accuracy_xgb]\n",
    "\n",
    "models = ['Bagging DT', \"Random Forest\", \"Ada Boost\", \"GradientBoosting\", \"XGBoost\"]\n",
    "\n",
    "resultados = pd.Series(result, models).sort_values(ascending=False)\n",
    "\n",
    "print(\"La precisión de los modelos en el conjunto de test es:\")\n",
    "print(resultados)\n"
   ]
  }
 ],
 "metadata": {
  "kernelspec": {
   "display_name": "Python 3",
   "language": "python",
   "name": "python3"
  },
  "language_info": {
   "codemirror_mode": {
    "name": "ipython",
    "version": 3
   },
   "file_extension": ".py",
   "mimetype": "text/x-python",
   "name": "python",
   "nbconvert_exporter": "python",
   "pygments_lexer": "ipython3",
   "version": "3.10.11"
  }
 },
 "nbformat": 4,
 "nbformat_minor": 4
}
